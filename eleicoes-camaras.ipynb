{
 "cells": [
  {
   "cell_type": "code",
   "execution_count": 6,
   "id": "5658dedd",
   "metadata": {},
   "outputs": [],
   "source": [
    "import pandas as pd\n",
    "from pathlib import Path\n",
    "\n",
    "# 📁 Input directory\n",
    "input_dir = Path(\"./input_datasets/eleicoes/\")\n",
    "\n",
    "# 🧾 Match both .xls and .xlsx files\n",
    "files = list(input_dir.glob(\"resultado_eleicoes_AM_*.xlsx\")) \n",
    "# 📦 Dictionary to store loaded DataFrames or errors\n",
    "datasets = {}\n",
    "\n",
    "for file in files:\n",
    "    try:\n",
    "        year = file.stem.split(\"_\")[-1].replace(\".xls\", \"\").replace(\".xlsx\", \"\")\n",
    "        sheet_name = f\"AM_{year}_Freguesia\"\n",
    "\n",
    "        df = pd.read_excel(file, sheet_name=sheet_name)\n",
    "        datasets[year] = df\n",
    "\n",
    "    except Exception as e:\n",
    "        datasets[year] = f\"Failed to load: {e}\"\n",
    "\n",
    "# 🔍 Describe structure\n",
    "for year, df in datasets.items():\n",
    "    print(f\"\\n🗓️ Year: {year}\")\n",
    "\n",
    "    if isinstance(df, pd.DataFrame):\n",
    "        print(f\"✅ Loaded with {len(df)} rows and {len(df.columns)} columns.\")\n",
    "        print(\"📌 Columns:\", list(df.columns))\n",
    "        print(\"🔎 Sample rows:\")\n",
    "        print(df.head(2).to_string(index=False))\n",
    "    else:\n",
    "        print(f\"❌ Error: {df}\")\n"
   ]
  },
  {
   "cell_type": "code",
   "execution_count": 7,
   "id": "72770779",
   "metadata": {},
   "outputs": [
    {
     "name": "stdout",
     "output_type": "stream",
     "text": [
      "Found files: []\n"
     ]
    }
   ],
   "source": [
    "print(\"Found files:\", files)"
   ]
  },
  {
   "cell_type": "code",
   "execution_count": null,
   "id": "91f14e76",
   "metadata": {},
   "outputs": [],
   "source": []
  }
 ],
 "metadata": {
  "kernelspec": {
   "display_name": "local-gov-financial-analysis",
   "language": "python",
   "name": "python3"
  },
  "language_info": {
   "codemirror_mode": {
    "name": "ipython",
    "version": 3
   },
   "file_extension": ".py",
   "mimetype": "text/x-python",
   "name": "python",
   "nbconvert_exporter": "python",
   "pygments_lexer": "ipython3",
   "version": "3.10.12"
  }
 },
 "nbformat": 4,
 "nbformat_minor": 5
}
